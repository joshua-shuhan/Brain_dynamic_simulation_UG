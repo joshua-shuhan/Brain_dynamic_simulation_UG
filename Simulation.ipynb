{
 "cells": [
  {
   "cell_type": "code",
   "execution_count": 37,
   "metadata": {},
   "outputs": [],
   "source": [
    "import numpy as np\n",
    "import math\n",
    "from scipy.io import loadmat"
   ]
  },
  {
   "cell_type": "code",
   "execution_count": 22,
   "metadata": {},
   "outputs": [],
   "source": [
    "def kuramoto_simu(N, T, dt, natural_freq, connect_matrix, noise_amp = 0):\n",
    "    theta = np.zeros((N,int(T / dt)))\n",
    "    # Intialization\n",
    "    theta[:,0] = np.random.uniform(low = -math.pi / 2, high = math.pi / 2,size = N)\n",
    "                     \n",
    "    for i in range(int(T / dt)-1):  \n",
    "        # Coupling oscillators\n",
    "        phase_curr = np.repeat(theta[:, i], N).reshape((N,N)) \n",
    "        # Iteration          \n",
    "        theta[:, i + 1] = theta[:, i] + natural_freq * dt + \\\n",
    "        np.sum(connect_matrix * np.sin(theta[:, i] - phase_curr), axis = 1) * dt\n",
    "    return theta"
   ]
  },
  {
   "cell_type": "code",
   "execution_count": 33,
   "metadata": {},
   "outputs": [],
   "source": [
    "def order_para(theta):\n",
    "    exponent_mat = np.exp(theta)\n",
    "    sum_phase = np.mean(exponent_mat, axis = 1)\n",
    "    return np.abs(sum_phase)"
   ]
  }
 ],
 "metadata": {
  "kernelspec": {
   "display_name": "Python 3",
   "language": "python",
   "name": "python3"
  },
  "language_info": {
   "codemirror_mode": {
    "name": "ipython",
    "version": 3
   },
   "file_extension": ".py",
   "mimetype": "text/x-python",
   "name": "python",
   "nbconvert_exporter": "python",
   "pygments_lexer": "ipython3",
   "version": "3.8.1"
  }
 },
 "nbformat": 4,
 "nbformat_minor": 1
}
